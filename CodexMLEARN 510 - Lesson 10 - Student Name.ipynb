{
 "cells": [
  {
   "cell_type": "markdown",
   "id": "4756c8cf",
   "metadata": {},
   "source": [
    "# Assignment Lesson 10:  Frequent Itemset Mining\n",
    "In this assignment, we will explore the python package [mlxtend](https://pypi.org/project/mlxtend/) to mine frequent itemsets. You will learn to create association rules.\n",
    "<br>\n",
    "Original version found in MLEARN 510 Canvas. Updated and modified by Ernst Henle\n",
    "<br>\n",
    "Copyright © 2024 by Ernst Henle \n",
    "\n",
    "# Learning Objectives:\n",
    "Learning Objectives:\n",
    "- Extract frequent patterns given a dataset of transactions\n",
    "- Find the association rules which are interesting and non-obvious"
   ]
  },
  {
   "cell_type": "code",
   "execution_count": null,
   "id": "f0711042-00ca-4142-8a75-05dd96017c32",
   "metadata": {},
   "outputs": [],
   "source": [
    "#!pip install mlxtend==0.23.1 # install older version; version 0.23.3 has a bug\n",
    "# Expected result should inclde:  Successfully installed mlxtend-0.23.1"
   ]
  },
  {
   "cell_type": "code",
   "execution_count": null,
   "id": "d10f21ba-6966-47fa-9b60-db2cd5564db3",
   "metadata": {},
   "outputs": [],
   "source": [
    "# There seems to be a bug in mlxtend version 0.23.3 and maybe mlxtend 0.23.2. \n",
    "# We need to use mlxtend version 0.23.1\n",
    "\n",
    "import importlib.metadata\n",
    "from packaging.version import parse\n",
    "\n",
    "def check_version():\n",
    "    try:\n",
    "        installed_version = importlib.metadata.version(\"mlxtend\")\n",
    "    except importlib.metadata.PackageNotFoundError:\n",
    "        print('\\n\\nPackage not found! Have you installed mlxtend?')\n",
    "        print('You may need to run:\\n!pip install mlxtend==0.23.1\\n\\n')\n",
    "        return;\n",
    "    max_version = \"0.23.1\"\n",
    "    if parse(installed_version) > parse(max_version):\n",
    "        print(f\"Installed mlxtend version {installed_version} may have a bug.\")\n",
    "        print(f\"Uninstall mlxtend version {installed_version}:  !pip uninstall mlxtend -y\")\n",
    "        print(f\"Install mlxtend version {max_version}:  !pip install mlxtend==0.23.1\")\n",
    "    else:\n",
    "        print(f\"Installed mlxtend version {installed_version} is OK.  Some versions, like 0.23.3 have a bug. Version {max_version} is recommended.\")\n",
    "\n",
    "check_version()\n",
    "\n",
    "# !pip uninstall mlxtend -y # remove current version\n",
    "# !pip install mlxtend==0.23.1 # install older version\n",
    "# Expected result should inclde:  Successfully installed mlxtend-0.23.1"
   ]
  },
  {
   "cell_type": "code",
   "execution_count": null,
   "id": "b14f5ecc",
   "metadata": {},
   "outputs": [],
   "source": [
    "import pandas as pd\n",
    "import numpy as np\n",
    "from mlxtend.frequent_patterns import apriori\n",
    "from mlxtend.frequent_patterns import association_rules\n",
    "from mlxtend.preprocessing import TransactionEncoder\n",
    "\n",
    "import matplotlib.pyplot as plt"
   ]
  },
  {
   "cell_type": "markdown",
   "id": "2d852997-9c6e-4ae0-b4d9-9b6df5701b73",
   "metadata": {},
   "source": [
    "## Online Retail Data\n",
    "Transactional [online retail](https://archive.ics.uci.edu/ml/datasets/Online+Retail+II) dataset :  multiple items are purchased together under the same Invoice No\n"
   ]
  },
  {
   "cell_type": "code",
   "execution_count": null,
   "id": "7217dce7",
   "metadata": {},
   "outputs": [],
   "source": [
    "# Read Pandas Pickled Data\n",
    "file_path = '../data/online_retail_combined.pkl'  # 52763 kb file with 1067371 rows\n",
    "data = pd.read_pickle(file_path) # read time is 1 sec"
   ]
  },
  {
   "cell_type": "markdown",
   "id": "fca9766a",
   "metadata": {},
   "source": [
    "## Question 1.1\n",
    "EDA\n",
    "- show first few rows\n",
    "- verify data types\n",
    "- describe numeric values\n",
    "\n",
    "<br><br>\n",
    "Basic Data Preparation\n",
    "- Remove rows where Quantity is Negative or above 99th percentile of Quantity\n",
    "- Remove rows where Price is Negative or above 99th percentile of price"
   ]
  },
  {
   "cell_type": "code",
   "execution_count": null,
   "id": "ee7ef1b1",
   "metadata": {},
   "outputs": [],
   "source": [
    "display(data.head())\n",
    "display(data.dtypes) # columns are properly typed\n",
    "data.describe()"
   ]
  },
  {
   "cell_type": "code",
   "execution_count": null,
   "id": "01a11257",
   "metadata": {},
   "outputs": [],
   "source": [
    "Quantity_Hi = np.quantile(data['Quantity'], 0.99)\n",
    "Quantity_Lo = 0\n",
    "Price_Hi = np.quantile(data['Price'], 0.99)\n",
    "Price_Lo = 0\n",
    "\n",
    "# Remove any cases where Quantity < 0.  Such data is not easily used in our analysis\n",
    "# data starts with 1067371 rows\n",
    "data = data[data['Quantity'] > Quantity_Lo] # results in 1044421 rows\n",
    "data = data[data['Quantity'] < Quantity_Hi] # results in 1030595 rows\n",
    "data = data[data['Price'] > Price_Lo] # results in 1028147 rows\n",
    "data = data[data['Price'] < Price_Hi] # results in 1017274 rows"
   ]
  },
  {
   "cell_type": "markdown",
   "id": "d2279760-0263-4232-ba7c-5005db5e375d",
   "metadata": {},
   "source": [
    "## Question 1.2\n",
    "Consistency\n",
    "- Verify that each invoice is only from one country (Group Countries by 'invoice' and aggregate with `.nunique()` the number of unique countries)\n",
    "- Show that Description and StockCode have a many-to-many relationship\n",
    "- Enforce a 1-to-1 relationship between Description and StockCode"
   ]
  },
  {
   "cell_type": "code",
   "execution_count": null,
   "id": "553aa18d-58a1-4159-8f37-4e0d9ed07f33",
   "metadata": {},
   "outputs": [],
   "source": [
    "print(f'Total number of Invoices: {data.Invoice.unique().shape[0]}')\n",
    "NumberOfCountriesByInvoice = data.groupby('Invoice')['Country'].nunique()\n",
    "NumberOfInvoicesWithOneCountry = len(NumberOfCountriesByInvoice[NumberOfCountriesByInvoice == 1])\n",
    "print(f'Number of invoices with only one country: {NumberOfInvoicesWithOneCountry}')"
   ]
  },
  {
   "cell_type": "code",
   "execution_count": null,
   "id": "ec808bd8-133e-45b0-a8e4-4bf61ff3bba1",
   "metadata": {},
   "outputs": [],
   "source": [
    "# Show that Description and StockCode have a many-to-many relationship\n",
    "display(data.groupby('Description')['StockCode'].nunique().value_counts())\n",
    "display(data.groupby('StockCode')['Description'].nunique().value_counts())"
   ]
  },
  {
   "cell_type": "code",
   "execution_count": null,
   "id": "bf8a037c-b94f-4c28-8bc6-76ca3d8f80f1",
   "metadata": {},
   "outputs": [],
   "source": [
    "# Enforce 1-to-1 relationship of 'Description' and 'StockCode'\n",
    "from collections import Counter\n",
    "\n",
    "# Find most common value from each group of values\n",
    "def most_common_description(group):\n",
    "    return Counter(group).most_common(1)[0][0]\n",
    "\n",
    "# Create dictionary of StockCode to most common Description\n",
    "common_descriptions = data.groupby('StockCode')['Description'].apply(most_common_description).to_dict()\n",
    "# Replace Description most common Description for each StockCode\n",
    "data['Description'] = data['StockCode'].map(common_descriptions)\n",
    "\n",
    "# Create dictionary of Description to most common StockCode\n",
    "common_stockcodes = data.groupby('Description')['StockCode'].apply(most_common_description).to_dict()\n",
    "# Replace Description most common Description for each StockCode\n",
    "data['StockCode'] = data['Description'].map(common_stockcodes)\n",
    "\n",
    "display(data.groupby('Description')['StockCode'].nunique().value_counts())\n",
    "display(data.groupby('StockCode')['Description'].nunique().value_counts())"
   ]
  },
  {
   "cell_type": "markdown",
   "id": "d0f3f8a9",
   "metadata": {},
   "source": [
    "## Question 1.2\n",
    "Filter the data by only transactions that happened in the United Kingdom "
   ]
  },
  {
   "cell_type": "code",
   "execution_count": null,
   "id": "dea48cc1-4177-4124-9459-18b1675d24ca",
   "metadata": {},
   "outputs": [],
   "source": [
    "data['Country'].value_counts()"
   ]
  },
  {
   "cell_type": "code",
   "execution_count": null,
   "id": "972311e7-b46d-43b4-9ec2-9a2c5377bb7c",
   "metadata": {},
   "outputs": [],
   "source": [
    "UK_Data = data[data['Country']=='United Kingdom'] # 939491\n",
    "UK_Data.shape"
   ]
  },
  {
   "cell_type": "markdown",
   "id": "9b144fc8",
   "metadata": {},
   "source": [
    "## Question 1.3\n",
    "What are the most popular 5 items in the United Kingdom?"
   ]
  },
  {
   "cell_type": "code",
   "execution_count": null,
   "id": "2599fcbe",
   "metadata": {},
   "outputs": [],
   "source": [
    "item_freq = UK_Data['Description'].value_counts()\n",
    "display(item_freq.head(5))\n",
    "item_freq_SC = UK_Data['StockCode'].value_counts()"
   ]
  },
  {
   "cell_type": "markdown",
   "id": "49ee9fce",
   "metadata": {},
   "source": [
    "## Question 1.4\n",
    "Filter down the data to only include transactions that contain at least one of the top 20 items <br>\n",
    "This does not mean there will only be 20 items.  Just that any invoice must contain at leastone of the top 20 items."
   ]
  },
  {
   "cell_type": "code",
   "execution_count": null,
   "id": "cbbe6a3b",
   "metadata": {},
   "outputs": [],
   "source": [
    "RowsWithTop20Items = UK_Data['StockCode'].astype(str).isin(item_freq_SC.head(20).index.to_list())\n",
    "RowsWithTop20Items.sum()"
   ]
  },
  {
   "cell_type": "code",
   "execution_count": null,
   "id": "4aa42800",
   "metadata": {},
   "outputs": [],
   "source": [
    "print(f'Original shape of UK data: {UK_Data.shape}')\n",
    "InvoicesOfInterest = UK_Data['Invoice'].isin(UK_Data.loc[RowsWithTop20Items,'Invoice'].to_list())\n",
    "UK_Data_of_Interest = UK_Data.loc[InvoicesOfInterest,:]\n",
    "print(f'Shape of interesting UK data: {UK_Data_of_Interest.shape}')"
   ]
  },
  {
   "cell_type": "markdown",
   "id": "c7248502",
   "metadata": {},
   "source": [
    "## Question 2.1\n",
    "Create Input Data for Apriori Function:  \n",
    "- Create an array of lists where each list contains items from one invoice\n",
    "- Create a 2D data structure where each product description is a column and each transaction is a row\n",
    "- The cell values indicate the presence (True) or absence (False) of the value\n",
    "\n",
    "<br><br>\n",
    "The result should be 1 transaction per row and each product one-hot encoded."
   ]
  },
  {
   "cell_type": "code",
   "execution_count": null,
   "id": "6bcf9f2d-3161-429d-b2c3-15fe7778ea29",
   "metadata": {},
   "outputs": [],
   "source": [
    "# Aggregate Descriptions for each invoice into its own list\n"
   ]
  },
  {
   "cell_type": "code",
   "execution_count": null,
   "id": "4df80db8-c0bb-4386-b609-a47a7f44b131",
   "metadata": {},
   "outputs": [],
   "source": [
    "# Create array of transaction lists \n"
   ]
  },
  {
   "cell_type": "markdown",
   "id": "ad151904-1b72-416f-9e3a-c32f295449e6",
   "metadata": {},
   "source": [
    "## Question 2.2\n",
    "Create table with booleans (one-hot encoding) where each invoice is a row and each description is a column.  Use `TransactionEncoder` from `mlxtend`"
   ]
  },
  {
   "cell_type": "code",
   "execution_count": null,
   "id": "61388161-8d92-46b6-98f2-b12938d883a2",
   "metadata": {},
   "outputs": [],
   "source": [
    "# One hot encode transactions \n"
   ]
  },
  {
   "cell_type": "markdown",
   "id": "ad498174",
   "metadata": {},
   "source": [
    "## Question 3.1 \n",
    "Apply [apriori](http://rasbt.github.io/mlxtend/user_guide/frequent_patterns/apriori/) algorithm to generate frequent item sets that have a support of at least 7%"
   ]
  },
  {
   "cell_type": "code",
   "execution_count": null,
   "id": "38df6f04-be79-4e82-8137-18b5df30c3d6",
   "metadata": {},
   "outputs": [],
   "source": [
    "# Create frequent itemsets\n"
   ]
  },
  {
   "cell_type": "markdown",
   "id": "8e053ff4",
   "metadata": {},
   "source": [
    "## Question 3.2\n",
    "Generate the association rules with their corresponding support, confidence and lift."
   ]
  },
  {
   "cell_type": "code",
   "execution_count": null,
   "id": "f0dd5e3d-9ee3-4057-b932-deaca7828d9a",
   "metadata": {},
   "outputs": [],
   "source": [
    "# Number of transactions in original input data\n"
   ]
  },
  {
   "cell_type": "markdown",
   "id": "0fac5766",
   "metadata": {},
   "source": [
    "## Question 4\n",
    "Bonus Question:  Based on the above rules, identify what would be the opportunity of promoting one of the antecendents."
   ]
  },
  {
   "cell_type": "code",
   "execution_count": null,
   "id": "c1226cb4",
   "metadata": {},
   "outputs": [],
   "source": []
  }
 ],
 "metadata": {
  "kernelspec": {
   "display_name": "Python 3 (ipykernel)",
   "language": "python",
   "name": "python3"
  },
  "language_info": {
   "codemirror_mode": {
    "name": "ipython",
    "version": 3
   },
   "file_extension": ".py",
   "mimetype": "text/x-python",
   "name": "python",
   "nbconvert_exporter": "python",
   "pygments_lexer": "ipython3",
   "version": "3.10.13"
  }
 },
 "nbformat": 4,
 "nbformat_minor": 5
}
