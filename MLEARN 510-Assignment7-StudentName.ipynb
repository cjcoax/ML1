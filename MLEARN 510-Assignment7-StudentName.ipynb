{
 "cells": [
  {
   "cell_type": "markdown",
   "metadata": {
    "collapsed": true,
    "jupyter": {
     "outputs_hidden": true
    }
   },
   "source": [
    "# Assignment 7: Linear Model Selection and Regularization\n",
    "Derived from MLEARN51-Assignment7-Student_Name.ipynb in Canvas MLEARN 510 Spring 2024.   <br>\n",
    "Modified by Ernst Henle. Modifications Copyright © 2024 by Ernst Henle<br>\n",
    "<br>\n",
    "## Learning Objectives\n",
    "- Produce a model with l2 regularization, with a statistically significant improvement over a model without regularization.\n",
    "- Produce a model with l1 regularization, with a statistically significant improvement over a model without regularization.\n",
    "- Produce a model with both l1 and l2 regularization terms, with a statistically significant improvement over a model without regularization.\n",
    "- Produce a generalized additive model with a statistically significant improvement over the null model (a model without input variables)."
   ]
  },
  {
   "cell_type": "code",
   "execution_count": null,
   "metadata": {},
   "outputs": [],
   "source": [
    "# The following code can be removed\n",
    "import time\n",
    "start_time = time.time()"
   ]
  },
  {
   "cell_type": "code",
   "execution_count": null,
   "metadata": {},
   "outputs": [],
   "source": [
    "# Packages\n",
    "import pandas as pd\n",
    "import numpy as np\n",
    "import seaborn as sns\n",
    "import matplotlib.pyplot as plt\n",
    "from sklearn.model_selection import train_test_split\n",
    "from sklearn.linear_model import Ridge, LinearRegression, ElasticNet, Lasso\n",
    "from sklearn.metrics import mean_squared_error\n",
    "\n",
    "# There could be over 50 Convergence Error Warnings\n",
    "import warnings\n",
    "warnings.filterwarnings('ignore')\n",
    "\n",
    "# our favorite magic\n",
    "%matplotlib inline"
   ]
  },
  {
   "cell_type": "markdown",
   "metadata": {},
   "source": [
    "## Get Data and Basic EDA\n",
    "<br>\n",
    "Dataset(s) needed:\n",
    "Kaggle House Prices (https://www.kaggle.com/c/house-prices-advanced-regression-techniques/data)<br>\n",
    "\n",
    "This data is only the training data.  We will not use the actual test data in this exercise.  All \"tests\" will be validations done on validation data that is taken from the training data."
   ]
  },
  {
   "cell_type": "code",
   "execution_count": null,
   "metadata": {},
   "outputs": [],
   "source": [
    "train = pd.read_csv('../data/House Prices.csv')\n",
    "print(train.shape)\n",
    "print(train.dtypes.value_counts())\n",
    "train.head()"
   ]
  },
  {
   "cell_type": "markdown",
   "metadata": {},
   "source": [
    " Question 1.1: Drop the Id column from the data as it is not needed for prediction and may actually lead to overfitting."
   ]
  },
  {
   "cell_type": "code",
   "execution_count": null,
   "metadata": {},
   "outputs": [],
   "source": [
    "# drop id column\n"
   ]
  },
  {
   "cell_type": "markdown",
   "metadata": {},
   "source": [
    " Question 1.2: Visualize a scatter plot of 'GrLivArea' in the x-axis and 'SalePrice' in the y-axis. Can you spot any outliers?"
   ]
  },
  {
   "cell_type": "code",
   "execution_count": null,
   "metadata": {},
   "outputs": [],
   "source": [
    "# Create scatter plot\n"
   ]
  },
  {
   "cell_type": "markdown",
   "metadata": {},
   "source": [
    " Question 1.3: Removing outliers in the data for all GrLivArea greater than 4000 then check the scatter plot again"
   ]
  },
  {
   "cell_type": "code",
   "execution_count": null,
   "metadata": {},
   "outputs": [],
   "source": [
    "# Remove outliers for train['GrLivArea']>4000\n",
    "\n",
    "# Create scatter plot that shows that the 2 outliers were removed\n"
   ]
  },
  {
   "cell_type": "markdown",
   "metadata": {},
   "source": [
    "Quesiont 2.1: Convert categorical variable into dummy variables using pandas get_dummies API\n",
    "\n",
    "Do not use sklearn.  In sklearn you would have to do the following:\n",
    "1. identify the category columns in the dataframe\n",
    "2. ceate a one-hot-encoder object\n",
    "3. one-hot-encode the category columns of the dataframe and put results in a new dataframe\n",
    "4. drop the category columns from the original dataframe to create a dataframe of the original numeric variables\n",
    "5. combine the new dataframe of one-hot-encoded variables with the numeric variable of the original dataframe\n",
    "\n",
    "<br><br>\n",
    "Do the following:\n",
    "1. Please one-hot-encode using pandas `get_dummies`.  With `get_dummies`you just use the data as the argument for `get_dummies` and assign the output to the same variable name. \n",
    "3. Present shape of data.  Use `shape` as was done above.  How many columns were added?\n",
    "4. Present counts of data type.  Use `dtypes` and `value_counts` as was done above.  How have the data types changed? "
   ]
  },
  {
   "cell_type": "code",
   "execution_count": null,
   "metadata": {},
   "outputs": [],
   "source": [
    "# One-hot encode\n",
    "\n",
    "# Present shape of data\n",
    "\n",
    "# Present counts of data type\n"
   ]
  },
  {
   "cell_type": "markdown",
   "metadata": {},
   "source": [
    "Question 2.2: Impute missing data by the median of each column.\n",
    "1. Count the total number of nulls in the data\n",
    "2. Replace nulls with column medians\n",
    "3. Count the total number of nulls in the data"
   ]
  },
  {
   "cell_type": "code",
   "execution_count": null,
   "metadata": {},
   "outputs": [],
   "source": [
    "# Count the total number of nulls in the data\n",
    "\n",
    "# Replace nulls with column medians\n",
    "\n",
    "# Count the total number of nulls in the data\n"
   ]
  },
  {
   "cell_type": "markdown",
   "metadata": {},
   "source": [
    "Question 2.3: Generate train validation (test) split of 70/30\n",
    "1. Create the input variables `X` without 'SalePrice'\n",
    "2. Create the target variable `y` which is 'SalePrice'\n",
    "3. Do train-test split to split data into training and validation datasets"
   ]
  },
  {
   "cell_type": "code",
   "execution_count": null,
   "metadata": {},
   "outputs": [],
   "source": [
    "# Create input and target variables X and y\n",
    "\n",
    "\n",
    "# Do train-test split\n"
   ]
  },
  {
   "cell_type": "markdown",
   "metadata": {},
   "source": [
    "Question 3.1: Train a linear regression algorithm to predict `SalePrice` from the remaining features."
   ]
  },
  {
   "cell_type": "code",
   "execution_count": null,
   "metadata": {},
   "outputs": [],
   "source": [
    "#Fit a linear regression model to this data\n"
   ]
  },
  {
   "cell_type": "markdown",
   "metadata": {},
   "source": [
    "Question 3.2: Evaluate the model with RMSE. Report the performance on both training and test data. These numbers will serve as our benchmark performance."
   ]
  },
  {
   "cell_type": "code",
   "execution_count": null,
   "metadata": {},
   "outputs": [],
   "source": [
    "#Compute the RMSE \n"
   ]
  },
  {
   "cell_type": "markdown",
   "metadata": {
    "collapsed": true,
    "jupyter": {
     "outputs_hidden": true
    }
   },
   "source": [
    "We now train a regularized version of `LinearRegression` called `Lasso`. `Lasso` has an argument called `alpha`, which is the **shrinkage parameter**.\n",
    "\n",
    "Question 4.1: Let `alpha = 0.000001` and train a `Lasso` algorithm. Show that the resulting model is practically identical to the one we trained with `LinearRegression`. There are different ways to show this, so you will need to think of a way. <span style=\"color:red\" float:right>[2 point]</span>"
   ]
  },
  {
   "cell_type": "code",
   "execution_count": null,
   "metadata": {},
   "outputs": [],
   "source": [
    "# Train Lasso with very small alpha\n",
    "\n",
    "\n",
    "#Compute the RMSE for train and validation (test)\n"
   ]
  },
  {
   "cell_type": "markdown",
   "metadata": {
    "collapsed": true,
    "jupyter": {
     "outputs_hidden": true
    }
   },
   "source": [
    "Question 4.2: Iteratively train a new `Lasso` model, letting `alpha` change each time to one of the values given by the suggested `alpha_vals` below.\n",
    "For each alpha keep track of and store: \n",
    "- the performance (RMSE) on the training data\n",
    "- the performance (RMSE) on the validation (test) data\n",
    "- the coefficients (`coef_`) of the trained model"
   ]
  },
  {
   "cell_type": "code",
   "execution_count": null,
   "metadata": {},
   "outputs": [],
   "source": [
    "# The following are suggested alpha values\n",
    "alpha_vals = 10**np.arange(-1, 4, .2)\n",
    "\n",
    "# For each alpha, determine train rmse, test rmse, coefficients\n"
   ]
  },
  {
   "cell_type": "markdown",
   "metadata": {},
   "source": [
    "Question 4.3: Using a visual, show how the performance (rmse) on the training and test data changed as we gradually increased `alpha`. Use a lineplot where the x-axis is `alpha` and the y-axis is rmse.  Use a log scale for the x-axis.\n",
    "<br><br>\n",
    "Discuss your results:\n",
    "- From this plot, estimate the best alpha value.\n",
    "- How does the plot for the training data compare to the lineplot of the validation (test) data?"
   ]
  },
  {
   "cell_type": "code",
   "execution_count": null,
   "metadata": {},
   "outputs": [],
   "source": [
    "# Create lineplot where the x-axis is alpha and the y axis is rmse\n"
   ]
  },
  {
   "cell_type": "markdown",
   "metadata": {},
   "source": [
    "Question 4.4: Using a visual, show how the model's coefficients changed as we gradually increased the shrinkage parameter `alpha`. HINT: They should appear to be shrinking toward zero as you increase `alpha`!  There are too many coefficients to create lineplots for every coefficient.  Present only a subset of the coefficients that make the point."
   ]
  },
  {
   "cell_type": "code",
   "execution_count": null,
   "metadata": {},
   "outputs": [],
   "source": [
    "# ax = sns.lineplot(x = 'alpha', y = 'coef', hue = 'col', data = iter_coefs)\n",
    "# ax.legend(loc = 'center right', bbox_to_anchor = (1.5, 0.5), ncol = 1);"
   ]
  },
  {
   "cell_type": "markdown",
   "metadata": {},
   "source": [
    "Question 5.1: Repeat steps in Question 4.2.  This time using `Ridge` instead of `Lasso`."
   ]
  },
  {
   "cell_type": "code",
   "execution_count": null,
   "metadata": {},
   "outputs": [],
   "source": []
  },
  {
   "cell_type": "markdown",
   "metadata": {},
   "source": [
    "Question 5.2: Using a visual, show how the performance (rmse) on the training and test data changed as we gradually increased `alpha`. Use a lineplot where the x-axis is `alpha` and the y-axis is rmse.  Use a log scale for the x-axis.  \n",
    "<br><br>\n",
    "Discuss your results:\n",
    "- From this plot, estimate the best alpha value.\n",
    "- How does the plot for the training data compare to the validation (test) data?"
   ]
  },
  {
   "cell_type": "code",
   "execution_count": null,
   "metadata": {},
   "outputs": [],
   "source": []
  },
  {
   "cell_type": "markdown",
   "metadata": {},
   "source": [
    "Question 5.3: Using a visual, show how the model's coefficients changed as we gradually increased the shrinkage parameter `alpha`. HINT: They should appear to be shrinking toward zero as you increase `alpha`!  There are too many coefficients to create lineplots for every coefficient.  Present a subset of the coefficients that make the point."
   ]
  },
  {
   "cell_type": "code",
   "execution_count": null,
   "metadata": {},
   "outputs": [],
   "source": [
    "# ax = sns.lineplot(x = 'alpha', y = 'coef', hue = 'col', data = iter_coefs)\n",
    "# ax.legend(loc = 'center right', bbox_to_anchor = (1.5, 0.5), ncol = 1);"
   ]
  },
  {
   "cell_type": "code",
   "execution_count": null,
   "metadata": {},
   "outputs": [],
   "source": [
    "# The following code can be removed\n",
    "print(\"Elapsed time: \", time.time() - start_time)"
   ]
  }
 ],
 "metadata": {
  "kernelspec": {
   "display_name": "Python 3",
   "language": "python",
   "name": "python3"
  },
  "language_info": {
   "codemirror_mode": {
    "name": "ipython",
    "version": 3
   },
   "file_extension": ".py",
   "mimetype": "text/x-python",
   "name": "python",
   "nbconvert_exporter": "python",
   "pygments_lexer": "ipython3",
   "version": "3.7.16"
  }
 },
 "nbformat": 4,
 "nbformat_minor": 4
}
