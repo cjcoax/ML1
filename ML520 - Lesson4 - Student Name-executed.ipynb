{
 "cells": [
  {
   "cell_type": "markdown",
   "metadata": {},
   "source": [
    "# Lesson 5 - Assignment\n",
    "\n",
    "In this assignment, you will implement a Support Vector Machine Classifier  from scratch and compare the results to existing sklearn algorithm. "
   ]
  },
  {
   "cell_type": "code",
   "execution_count": 1,
   "metadata": {
    "execution": {
     "iopub.execute_input": "2025-08-01T20:38:52.088688Z",
     "iopub.status.busy": "2025-08-01T20:38:52.088045Z",
     "iopub.status.idle": "2025-08-01T20:38:55.977090Z",
     "shell.execute_reply": "2025-08-01T20:38:55.975743Z"
    }
   },
   "outputs": [],
   "source": [
    "# import packages\n",
    "%matplotlib inline\n",
    "import numpy as np\n",
    "import matplotlib.pyplot as plt\n",
    "import seaborn as sns\n",
    "import pandas as pd\n",
    "from matplotlib.legend_handler import HandlerLine2D\n",
    "from sklearn.metrics import accuracy_score\n",
    "from sklearn.metrics import confusion_matrix\n",
    "from sklearn.metrics import mean_squared_error\n",
    "from sklearn.metrics import mean_absolute_error\n",
    "from sklearn.tree import DecisionTreeClassifier\n",
    "from sklearn.tree import DecisionTreeRegressor\n",
    "from sklearn.model_selection import GridSearchCV\n",
    "from sklearn.model_selection import train_test_split\n",
    "from sklearn.utils import shuffle\n",
    "\n",
    "# make this notebook's output stable across runs\n",
    "np.random.seed(0)"
   ]
  },
  {
   "cell_type": "markdown",
   "metadata": {},
   "source": [
    "Question 1.1: Implement the cost function cost/objective function:\n",
    "<img src=\"https://miro.medium.com/max/688/1*JAS6rUTO7TDlrv4XZSMbsA.png\" alt=\"drawing\" width=\"600\"/>\n"
   ]
  },
  {
   "cell_type": "markdown",
   "metadata": {},
   "source": [
    "Hints given: \n",
    "There was some confusion about what the stochastic descent cost gradient function reg_strength parameter means, \n",
    "as in the assignment there is not a lot of context around it. reg_strength refers to the regulation coefficient in stochastic descent. \n",
    "reg_strength corresponds to L2 regularization, also known as Ridge regression. \n",
    "The regularization parameter (λ) controls the strength of the penalty. \n",
    "A higher λ will lead to smaller coefficients and potentially prevent overfitting. \n",
    "To illustrate how it is used, here is a general example of computing the cost gradient that incorporates reg_strength:\n",
    "\n",
    " \n",
    "```\n",
    "import numpy as np\n",
    "\n",
    "def stochastic_descent_gradient(X, y, theta, learning_rate, reg_strength, batch_size):\n",
    "    \"\"\"\n",
    "    Performs one epoch of stochastic gradient descent with L2 regularization.\n",
    "\n",
    "    Args:\n",
    "        X (np.ndarray): Feature matrix of shape (n_samples, n_features).\n",
    "        y (np.ndarray): Target vector of shape (n_samples,).\n",
    "        theta (np.ndarray): Parameter vector of shape (n_features,).\n",
    "        learning_rate (float): Learning rate for gradient descent.\n",
    "        reg_strength (float): Regularization strength (lambda).\n",
    "        batch_size (int): Number of samples in each mini-batch.\n",
    "\n",
    "    Returns:\n",
    "        np.ndarray: Updated parameter vector.\n",
    "    \"\"\"\n",
    "    n_samples = X.shape[0]\n",
    "    indices = np.random.permutation(n_samples)\n",
    "    \n",
    "    for start_idx in range(0, n_samples, batch_size):\n",
    "        end_idx = min(start_idx + batch_size, n_samples)\n",
    "        batch_indices = indices[start_idx:end_idx]\n",
    "        X_batch = X[batch_indices]\n",
    "        y_batch = y[batch_indices]\n",
    "        \n",
    "        # Compute predictions\n",
    "        predictions = X_batch.dot(theta)\n",
    "        \n",
    "        # Compute gradient of the cost function with regularization\n",
    "        error = predictions - y_batch\n",
    "        gradient = (X_batch.T.dot(error) / batch_size) + reg_strength * theta\n",
    "        \n",
    "        # Update parameters\n",
    "        theta -= learning_rate * gradient\n",
    "\n",
    "    return theta\n",
    "```"
   ]
  },
  {
   "cell_type": "markdown",
   "metadata": {},
   "source": [
    "Relationships among the Lesson 4 assignment methods\n",
    "\n",
    "The question came up what are the relationships among the Lesson 4 assignment methods that work together to perform stochastic gradient descent.\n",
    "\n",
    "```calculate_cost_gradient(W, X_batch, Y_batch, reg_strength)```\n",
    "\n",
    "Computes the cost gradient of the loss function (including regularization) for a specific data batch (X_batch, Y_batch) using L2 regularization strength reg_strength and current weights W.\n",
    "Used inside sgd to obtain the gradient for updating W.\n",
    "```compute_cost(W, X, Y, reg_strength)```\n",
    "\n",
    "Calculates the total or full dataset cost (including regularization) for the entire dataset (X, Y) using current weights W.\n",
    "Typically called within sgd every few epochs.\n",
    "```sgd(data, outputs, learning_rate, max_epochs)```\n",
    "\n",
    "Implements the main training loop:\n",
    "Calls calculate_cost_gradient to get the gradient\n",
    "Updates W using the gradient and learning rate.\n",
    "Calls compute_cost(W, X, Y, reg_strength) periodically to do a convergence check\n",
    "\n"
   ]
  },
  {
   "cell_type": "code",
   "execution_count": 2,
   "metadata": {
    "execution": {
     "iopub.execute_input": "2025-08-01T20:38:55.981496Z",
     "iopub.status.busy": "2025-08-01T20:38:55.980930Z",
     "iopub.status.idle": "2025-08-01T20:38:55.989184Z",
     "shell.execute_reply": "2025-08-01T20:38:55.987529Z"
    }
   },
   "outputs": [],
   "source": [
    "def compute_cost(W, X, Y, reg_strength=1000):\n",
    "    # number of training examples\n",
    "    N = X.shape[0]\n",
    "    \n",
    "    # The labels in Y are 0 or 1. For SVM, we need -1 or 1.\n",
    "    Y_svm = Y.copy()\n",
    "    if hasattr(Y_svm, 'values'): # Handle pandas Series\n",
    "        Y_svm = Y_svm.values\n",
    "    Y_svm[Y_svm == 0] = -1\n",
    "\n",
    "    # calculate hinge loss\n",
    "    distances = 1 - Y_svm * (X.dot(W))\n",
    "    hinge_loss_per_sample = np.maximum(0, distances)\n",
    "    total_hinge_loss = np.sum(hinge_loss_per_sample) / N\n",
    "    \n",
    "    # calculate cost\n",
    "    # Regularization term (don't regularize bias)\n",
    "    # Bias is the last weight since intercept is the last column in X\n",
    "    regularization = (1 / 2) * np.dot(W[:-1], W[:-1])\n",
    "    \n",
    "    cost = regularization + reg_strength * total_hinge_loss\n",
    "    \n",
    "    return cost"
   ]
  },
  {
   "cell_type": "markdown",
   "metadata": {},
   "source": [
    "Question 1.2: Write a method that calculate the cost gradient:\n",
    "<img src=\"https://miro.medium.com/max/866/1*ww3F21VMVGp2NKhm0VTesA.png\" alt=\"drawing\" width=\"600\"/>"
   ]
  },
  {
   "cell_type": "code",
   "execution_count": 3,
   "metadata": {
    "execution": {
     "iopub.execute_input": "2025-08-01T20:38:55.994333Z",
     "iopub.status.busy": "2025-08-01T20:38:55.993833Z",
     "iopub.status.idle": "2025-08-01T20:38:56.003817Z",
     "shell.execute_reply": "2025-08-01T20:38:56.002430Z"
    }
   },
   "outputs": [],
   "source": [
    "def calculate_cost_gradient(W, X_batch, Y_batch, reg_strength=1000):\n",
    "    # The labels in Y_batch are 0 or 1. For SVM, we need -1 or 1.\n",
    "    Y_svm = Y_batch.copy()\n",
    "    if hasattr(Y_svm, 'values'): # Handle pandas Series\n",
    "        Y_svm = Y_svm.values\n",
    "    Y_svm[Y_svm == 0] = -1\n",
    "\n",
    "    # number of training examples in batch\n",
    "    N = X_batch.shape[0]\n",
    "\n",
    "    # y_i * (w . x_i)\n",
    "    margin = Y_svm * (X_batch.dot(W))\n",
    "    \n",
    "    # find indices of support vectors (where margin < 1)\n",
    "    sv_indices = np.where(margin < 1)[0]\n",
    "    \n",
    "    # Gradient of the loss term\n",
    "    X_batch_np = X_batch.values if hasattr(X_batch, 'values') else X_batch\n",
    "    dw_loss = -np.dot(Y_svm[sv_indices], X_batch_np[sv_indices, :])\n",
    "    dw_loss = reg_strength * (dw_loss / N)\n",
    "    \n",
    "    # Gradient of the regularization term (don't regularize bias)\n",
    "    dw_reg = W.copy()\n",
    "    dw_reg[-1] = 0\n",
    "    \n",
    "    # Total gradient\n",
    "    dw = dw_reg + dw_loss\n",
    "    \n",
    "    return dw"
   ]
  },
  {
   "cell_type": "markdown",
   "metadata": {},
   "source": [
    "Question 1.3: Write a method that performs stochastic Gradient descent as follows:\n",
    "- Caluclate the gradient of cost function i.e. ∇J(w)\n",
    "- Update the weights in the opposite direction to the gradient: w = w — ∝(∇J(w))\n",
    "- Repeat until conversion or until 5000 epochs are reached"
   ]
  },
  {
   "cell_type": "code",
   "execution_count": 4,
   "metadata": {
    "execution": {
     "iopub.execute_input": "2025-08-01T20:38:56.007608Z",
     "iopub.status.busy": "2025-08-01T20:38:56.007234Z",
     "iopub.status.idle": "2025-08-01T20:38:56.015953Z",
     "shell.execute_reply": "2025-08-01T20:38:56.014554Z"
    }
   },
   "outputs": [],
   "source": [
    "def sgd(data, outputs, learning_rate=0.0001, max_epochs=5000):\n",
    "    # Initialize weights\n",
    "    n_features = data.shape[1]\n",
    "    weights = np.zeros(n_features)\n",
    "    \n",
    "    prev_cost = float(\"inf\")\n",
    "    \n",
    "    # Set batch size\n",
    "    batch_size = 100\n",
    "    \n",
    "    print(\"training started...\")\n",
    "    \n",
    "    # Epoch loop\n",
    "    for epoch in range(1, max_epochs + 1):\n",
    "        \n",
    "        X_shuffled, y_shuffled = shuffle(data, outputs, random_state=epoch)\n",
    "        \n",
    "        for i in range(0, X_shuffled.shape[0], batch_size):\n",
    "            X_batch = X_shuffled.iloc[i:i+batch_size]\n",
    "            y_batch = y_shuffled.iloc[i:i+batch_size]\n",
    "            \n",
    "            grad = calculate_cost_gradient(weights, X_batch, y_batch)\n",
    "            weights = weights - learning_rate * grad\n",
    "            \n",
    "        # Print cost to monitor\n",
    "        if epoch <= 10 or epoch % 100 == 0:\n",
    "            cost = compute_cost(weights, data, outputs)\n",
    "            print(f\"Epoch is:{epoch} and Cost is: {cost}\")\n",
    "            if abs(prev_cost - cost) < 1e-4:\n",
    "                print(\"Converged.\")\n",
    "                break\n",
    "            prev_cost = cost\n",
    "\n",
    "    print(\"training finished.\")\n",
    "    return weights"
   ]
  },
  {
   "cell_type": "markdown",
   "metadata": {},
   "source": [
    "# Dataset"
   ]
  },
  {
   "cell_type": "code",
   "execution_count": 5,
   "metadata": {
    "execution": {
     "iopub.execute_input": "2025-08-01T20:38:56.019684Z",
     "iopub.status.busy": "2025-08-01T20:38:56.019176Z",
     "iopub.status.idle": "2025-08-01T20:38:56.041339Z",
     "shell.execute_reply": "2025-08-01T20:38:56.039975Z"
    }
   },
   "outputs": [],
   "source": [
    "data = pd.read_csv('data_banknote_authentication.csv')\n",
    "\n",
    "Y = data.iloc[:, -1]  \n",
    "X = data.iloc[:, 1:4]\n",
    "X.insert(loc=len(X.columns), column='intercept', value=1)\n",
    "\n",
    "X_train, X_test, y_train, y_test = train_test_split(X, Y, test_size=0.4, random_state=42)"
   ]
  },
  {
   "cell_type": "markdown",
   "metadata": {},
   "source": [
    "Question 4: Train and evaluate an SVC using the banknote_authentication data"
   ]
  },
  {
   "cell_type": "code",
   "execution_count": 6,
   "metadata": {
    "execution": {
     "iopub.execute_input": "2025-08-01T20:38:56.045880Z",
     "iopub.status.busy": "2025-08-01T20:38:56.045325Z",
     "iopub.status.idle": "2025-08-01T20:39:02.598270Z",
     "shell.execute_reply": "2025-08-01T20:39:02.597030Z"
    }
   },
   "outputs": [
    {
     "name": "stdout",
     "output_type": "stream",
     "text": [
      "training started...\n",
      "Epoch is:1 and Cost is: 977.898852406224\n",
      "Epoch is:2 and Cost is: 3258.5389430978903\n",
      "Epoch is:3 and Cost is: 3772.381001174172\n",
      "Epoch is:4 and Cost is: 1086.6774316794063\n",
      "Epoch is:5 and Cost is: 3432.2854365387175\n",
      "Epoch is:6 and Cost is: 1483.2441852517854\n",
      "Epoch is:7 and Cost is: 4670.316618068469\n",
      "Epoch is:8 and Cost is: 928.3480668454793\n",
      "Epoch is:9 and Cost is: 4512.34754163318\n",
      "Epoch is:10 and Cost is: 1530.6014595407223\n"
     ]
    },
    {
     "name": "stdout",
     "output_type": "stream",
     "text": [
      "Epoch is:100 and Cost is: 636.6306408749992\n"
     ]
    },
    {
     "name": "stdout",
     "output_type": "stream",
     "text": [
      "Epoch is:200 and Cost is: 2932.3810921842087\n"
     ]
    },
    {
     "name": "stdout",
     "output_type": "stream",
     "text": [
      "Epoch is:300 and Cost is: 2362.0498807055756\n"
     ]
    },
    {
     "name": "stdout",
     "output_type": "stream",
     "text": [
      "Epoch is:400 and Cost is: 1599.0683641766177\n"
     ]
    },
    {
     "name": "stdout",
     "output_type": "stream",
     "text": [
      "Epoch is:500 and Cost is: 1502.7479657182173\n"
     ]
    },
    {
     "name": "stdout",
     "output_type": "stream",
     "text": [
      "Epoch is:600 and Cost is: 1154.4943047382014\n"
     ]
    },
    {
     "name": "stdout",
     "output_type": "stream",
     "text": [
      "Epoch is:700 and Cost is: 2515.050013057047\n"
     ]
    },
    {
     "name": "stdout",
     "output_type": "stream",
     "text": [
      "Epoch is:800 and Cost is: 781.7343757717199\n"
     ]
    },
    {
     "name": "stdout",
     "output_type": "stream",
     "text": [
      "Epoch is:900 and Cost is: 616.9904782562888\n"
     ]
    },
    {
     "name": "stdout",
     "output_type": "stream",
     "text": [
      "Epoch is:1000 and Cost is: 2464.5569658367604\n",
      "training finished.\n",
      "weights are: [-3.10348684 -0.69805664 -1.20203299  1.49363636]\n",
      "accuracy on test dataset: 0.6593806921675774\n"
     ]
    }
   ],
   "source": [
    "# train the model\n",
    "W = sgd(X_train, y_train, learning_rate=0.001, max_epochs=1000)\n",
    "\n",
    "print(f\"weights are: {W}\")\n",
    "\n",
    "# make predictions on the test set\n",
    "y_pred_svm = X_test.dot(W)\n",
    "y_pred = np.where(y_pred_svm > 0, 1, 0)\n",
    "\n",
    "# calculate accuracy\n",
    "accuracy = accuracy_score(y_test, y_pred)\n",
    "print(f\"accuracy on test dataset: {accuracy}\")"
   ]
  },
  {
   "cell_type": "markdown",
   "metadata": {},
   "source": [
    "[Bonus] Question 5: Train and evaluate an SKLEARN SVC model, and compare the results to your model "
   ]
  },
  {
   "cell_type": "code",
   "execution_count": 7,
   "metadata": {
    "execution": {
     "iopub.execute_input": "2025-08-01T20:39:02.602239Z",
     "iopub.status.busy": "2025-08-01T20:39:02.601895Z",
     "iopub.status.idle": "2025-08-01T20:39:02.662557Z",
     "shell.execute_reply": "2025-08-01T20:39:02.661447Z"
    }
   },
   "outputs": [
    {
     "name": "stdout",
     "output_type": "stream",
     "text": [
      "SKLEARN SVC accuracy on test dataset: 0.8142076502732241\n"
     ]
    }
   ],
   "source": [
    "from sklearn.svm import SVC\n",
    "\n",
    "# Create and train the model\n",
    "# Using a linear kernel to be comparable to our implementation\n",
    "svc_model = SVC(kernel='linear', random_state=0)\n",
    "svc_model.fit(X_train, y_train)\n",
    "\n",
    "# Make predictions\n",
    "y_pred_sklearn = svc_model.predict(X_test)\n",
    "\n",
    "# Calculate and print accuracy\n",
    "accuracy_sklearn = accuracy_score(y_test, y_pred_sklearn)\n",
    "print(f\"SKLEARN SVC accuracy on test dataset: {accuracy_sklearn}\")"
   ]
  }
 ],
 "metadata": {
  "kernelspec": {
   "display_name": "Python 3 (ipykernel)",
   "language": "python",
   "name": "python3"
  },
  "language_info": {
   "codemirror_mode": {
    "name": "ipython",
    "version": 3
   },
   "file_extension": ".py",
   "mimetype": "text/x-python",
   "name": "python",
   "nbconvert_exporter": "python",
   "pygments_lexer": "ipython3",
   "version": "3.12.11"
  }
 },
 "nbformat": 4,
 "nbformat_minor": 4
}
