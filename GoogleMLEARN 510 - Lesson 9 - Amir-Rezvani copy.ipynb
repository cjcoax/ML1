{
 "cells": [
  {
   "cell_type": "markdown",
   "metadata": {},
   "source": [
    "# Assignment Lesson 9:  Forecasting\n",
    "In this assignment, we will explore the python package [statsmodels](http://www.statsmodels.org/stable/tsa.html) to forecast time series data. You will learn to use different time series modeling technique for forecasting.\n",
    "<br>\n",
    "Original version found in MLEARN 510 Canvas. Updated and modified by Ernst Henle\n",
    "<br>\n",
    "Copyright © 2024 by Ernst Henle \n",
    "\n",
    "# Learning Objectives:\n",
    "- Decompose time series into autocorrelation, seasonality, trend, and noise. \n",
    "- Explain the effects of exponential smoothing models and differentiate them from other models.\n",
    "- Apply and evaluate the results of an autoregressive model. \n",
    "- Apply and evaluate the results of a moving average model. \n",
    "- Apply and evaluate the results of an autoregressive integrated moving average model.\n",
    "- Apply and evaluate the results of ARIMA model for forecasting (time series prediction)."
   ]
  },
  {
   "cell_type": "code",
   "metadata": {
    "ExecuteTime": {
     "end_time": "2025-06-20T22:25:56.420986Z",
     "start_time": "2025-06-20T22:25:55.339707Z"
    }
   },
   "source": [
    "import numpy as np\n",
    "import pandas as pd\n",
    "import matplotlib.pyplot as plt\n",
    "from sklearn.metrics import mean_squared_error\n",
    "from sklearn.metrics import mean_absolute_error\n",
    "import warnings\n",
    "warnings.filterwarnings('ignore')\n",
    "# # Suppress the specific warnings\n",
    "# warnings.filterwarnings(\"ignore\", category=UserWarning, message=\"No frequency information was provided\")\n",
    "%matplotlib inline"
   ],
   "outputs": [],
   "execution_count": 1
  },
  {
   "cell_type": "markdown",
   "metadata": {},
   "source": [
    "## Air Passenger Dataset\n",
    "This dataset provides monthly totals of international airline passengers from 1949 to 1960. You can find a copy of the dataset on [Kaggle](https://www.kaggle.com/rakannimer/air-passengers) or [R datasets](https://stat.ethz.ch/R-manual/R-devel/library/datasets/html/AirPassengers.html).\n",
    "1. The file is read in as a dataframe\n",
    "2. The first column of the file is read in as an index of the dataframe\n",
    "3. The index datatype is parsed as a datetime (`parse_dates=True`)\n",
    "4. The index column header ('Month') is removed\n",
    "5. The value column is called 'airline passengers'\n",
    "6. The dataframe (144 rows) is split into training datframe (first 130 rows) and a testing dataframe (last 14 rows)"
   ]
  },
  {
   "cell_type": "code",
   "execution_count": null,
   "metadata": {},
   "outputs": [],
   "source": [
    "# Read csv, use first column as index, parse \n",
    "df = pd.read_csv('../data/airline-passengers.csv', index_col=[0], parse_dates=True)\n",
    "df.index = df.index.values\n",
    "display(df.head())\n",
    "\n",
    "# split the data into train and test\n",
    "train, test = df.iloc[:130, [0]], df.iloc[130:, [0]]\n",
    "print(f'Data ({df.shape}) is split into training ({train.shape}) and  testing ({test.shape}) dataframes')\n",
    "\n",
    "# Remove original data to avoid accidental usage\n",
    "df = None\n",
    "\n",
    "# Present the data\n",
    "plt.plot(train)\n",
    "plt.plot(test)\n",
    "plt.show()"
   ]
  },
  {
   "cell_type": "markdown",
   "metadata": {},
   "source": [
    "## Question 1.1\n",
    "Using [seasonal_decompose](https://www.statsmodels.org/stable/generated/statsmodels.tsa.seasonal.seasonal_decompose.html) API from `statsmodels.tsa.seasonal`, apply additive decomposition to the training dataset and plot each component from the decomposition."
   ]
  },
  {
   "cell_type": "code",
   "execution_count": null,
   "metadata": {},
   "outputs": [],
   "source": [
    "# Add Code here\n",
    "\n",
    "# import function from statsmodels\n",
    "\n",
    "# additive decomposition\n"
   ]
  },
  {
   "cell_type": "markdown",
   "metadata": {},
   "source": [
    "## Question 1.2\n",
    "Using [seasonal_decompose](https://www.statsmodels.org/stable/generated/statsmodels.tsa.seasonal.seasonal_decompose.html) API from `statsmodels.tsa.seasonal`, apply multiplicative decomposition to the same training dataset and plot each component from the decomposition. "
   ]
  },
  {
   "cell_type": "code",
   "execution_count": null,
   "metadata": {},
   "outputs": [],
   "source": [
    "# Add Code here\n",
    "\n",
    "# multiplicative decomposition\n"
   ]
  },
  {
   "cell_type": "markdown",
   "metadata": {},
   "source": [
    "## Question 1.3\n",
    "Determine the p-values of the [Augmented Dickey-Fuller test](https://www.statsmodels.org/stable/generated/statsmodels.tsa.stattools.adfuller.html) for the residuals of both the additive and multiplicative decompositions."
   ]
  },
  {
   "cell_type": "code",
   "execution_count": null,
   "metadata": {},
   "outputs": [],
   "source": [
    "# Augmented Dickey-Fuller tests on residuals\n",
    "\n",
    "# Present P-values\n"
   ]
  },
  {
   "cell_type": "markdown",
   "metadata": {},
   "source": [
    "## Question 1.4\n",
    "Which decomposition makes more sense for this dataset?  Why? .\n",
    "- Compare and discuss the two sets of decomposition plots\n",
    "- Compare and discuss the two Augmented Dickey-Fuller test p-values\n",
    "- Use 'Stationarity' to explain the value of the decompositions"
   ]
  },
  {
   "cell_type": "markdown",
   "metadata": {},
   "source": [
    "### Add Discussion here:\n"
   ]
  },
  {
   "cell_type": "markdown",
   "metadata": {},
   "source": [
    "## Question 2.1\n",
    "- Apply the simple exponential smoothing technique ([SimpleExpSmoothing](https://www.statsmodels.org/stable/generated/statsmodels.tsa.holtwinters.SimpleExpSmoothing.html)) to the airline dataset.\n",
    "- Find the hyper-parameter `smoothing_level` (+/- 0.1) that has lowest RMSE.\n",
    "- Report the prediction accuracy (RMSE) on the test dataset.\n",
    "- Present the training, test, and predicted time series using the method `plotTrainTestPred`. "
   ]
  },
  {
   "cell_type": "code",
   "execution_count": null,
   "metadata": {},
   "outputs": [],
   "source": [
    "def plotTrainTestPred(train, test, pred):\n",
    "    plt.plot(train['airline passengers'], label='train')\n",
    "    plt.plot(test['airline passengers'], linewidth=3, label='test')\n",
    "    plt.plot(pred, linestyle='--', label='predicted')\n",
    "    plt.title(f'Compare Train, Test, and Predicted Time Series')\n",
    "    plt.legend()\n",
    "    plt.grid()\n",
    "    plt.show();"
   ]
  },
  {
   "cell_type": "code",
   "execution_count": null,
   "metadata": {},
   "outputs": [],
   "source": [
    "warnings.filterwarnings('ignore')\n",
    "\n",
    "# Create SimpleExpSmoothing object and train on training data\n",
    "# Add code here\n"
   ]
  },
  {
   "cell_type": "code",
   "execution_count": null,
   "metadata": {},
   "outputs": [],
   "source": [
    "# Optimize SimpleExpSmoothing\n",
    "# fit model, make predictions, determine error to find best smoothing_level\n",
    "\n",
    "# Plot Accuracy (RMSE) vs smoothing level\n",
    "\n",
    "# Plot training, testing, and predicted time series\n"
   ]
  },
  {
   "cell_type": "markdown",
   "metadata": {},
   "source": [
    "## Question 2.2\n",
    "Apply the HWES ([ExponentialSmoothing](https://www.statsmodels.org/stable/_modules/statsmodels/tsa/holtwinters/model.html)) technique to the airline dataset and report the prediction accuracy (RMSE) on the test dataset.\n",
    "- Use the smoothing level from before.\n",
    "- Use `trend` and `seasonal` hyper-parameters to improve model accuracy."
   ]
  },
  {
   "cell_type": "code",
   "execution_count": null,
   "metadata": {},
   "outputs": [],
   "source": [
    "warnings.filterwarnings('ignore')\n",
    "\n",
    "# Optimize ExponentialSmoothing\n",
    "# fit model, make predictions, determine error to find best trend and seasonal parameters\n",
    "\n",
    "# create ExponentialSmoothing object with different trend and seasonal hyper-parameters\n",
    "\n",
    "# present RMSE\n",
    "\n",
    "# Plot training, testing, and predicted time series\n"
   ]
  },
  {
   "cell_type": "markdown",
   "metadata": {},
   "source": [
    "## Question 3\n",
    "Apply Autoregressive (AR) model to the airline dataset and report the prediction accuracy (RMSE) on the test dataset. An AR model is a subset of the ARIMA [ARIMA](https://www.statsmodels.org/stable/generated/statsmodels.tsa.arima.model.ARIMA.html), where only the `p` parameter of the `order=(p, d, q)` is used.\n",
    "- Differencing `d` of the `order=(p, d, q)` is set to zero in AR.\n",
    "- Lag `q` of the `order=(p, d, q)` is set to zero in AR.\n",
    "- Find lag `p` of the `order=(p, d, q)` that minimizes RMSE. Try lags 10 through 22"
   ]
  },
  {
   "cell_type": "code",
   "execution_count": null,
   "metadata": {},
   "outputs": [],
   "source": [
    "# AR optimization\n",
    "\n",
    "# Determine best AR lag \"p\"; determine and present RMSE\n",
    "\n",
    "# Plot training, testing, and predicted time series\n"
   ]
  },
  {
   "cell_type": "markdown",
   "metadata": {},
   "source": [
    "## Question 4\n",
    "Apply Auto Regressive Moving Average (ARMA) model to the airline dataset and report the prediction accuracy (RMSE) on the test dataset. An ARMA model is a subset of [ARIMA](https://www.statsmodels.org/stable/generated/statsmodels.tsa.arima.model.ARIMA.html), where only the `p` and `q` parameters of the `order=(p, d, q)` are used. \n",
    "- Set the `p` value of the `order=(p, d, q)` that you found for the AR model.\n",
    "- Differencing `d` of the `order=(p, d, q)` is set to zero in ARMA.\n",
    "- Find the lag `q` of the `order=(p, d, q)` that minimizes RMSE. Try values 10 through 22"
   ]
  },
  {
   "cell_type": "code",
   "execution_count": null,
   "metadata": {},
   "outputs": [],
   "source": [
    "# ARMA optimization\n",
    "\n",
    "# Determine best MA lag \"q\" given the parameter p determined for the AR model\n",
    "# present RMSE and q\n",
    "\n",
    "# Plot training, testing, and predicted time series\n"
   ]
  },
  {
   "cell_type": "markdown",
   "metadata": {},
   "source": [
    "## Question 5\n",
    "Apply Auto Regressive Integrated Moving Average model ([ARIMA](https://www.statsmodels.org/stable/generated/statsmodels.tsa.arima.model.ARIMA.html)) to the airline dataset and report the prediction accuracy (RMSE) on the test dataset. In an ARIMA model we need to set the `p`, `d`, and `q` parameters of the `order=(p, d, q)` hyper parameter: \n",
    "- Set the `p` parameter of the `order=(p, d, q)` that you found for the AR model.\n",
    "- Set the `q` parameter of the `order=(p, d, q)` that you found for the ARMA model.\n",
    "- Optimize the ARIMA by finding the best `d` parameter of the `order=(p, d, q)` that minimizes RMSE:  try values 0, 1, and 2"
   ]
  },
  {
   "cell_type": "code",
   "execution_count": null,
   "metadata": {},
   "outputs": [],
   "source": [
    "# ARIMA optimization\n",
    "\n",
    "# fit ARMA model, find best 'd', present 'd' and RMSE\n",
    "\n",
    "# Plot training, testing, and predicted time series\n"
   ]
  },
  {
   "cell_type": "markdown",
   "metadata": {},
   "source": [
    "## Question 6\n",
    "After running through various time series models, summarize your findings. "
   ]
  },
  {
   "cell_type": "markdown",
   "metadata": {},
   "source": [
    "### Add Discussion here\n"
   ]
  },
  {
   "cell_type": "code",
   "execution_count": null,
   "metadata": {},
   "outputs": [],
   "source": []
  }
 ],
 "metadata": {
  "kernelspec": {
   "display_name": "Python 3 (ipykernel)",
   "language": "python",
   "name": "python3"
  },
  "language_info": {
   "codemirror_mode": {
    "name": "ipython",
    "version": 3
   },
   "file_extension": ".py",
   "mimetype": "text/x-python",
   "name": "python",
   "nbconvert_exporter": "python",
   "pygments_lexer": "ipython3",
   "version": "3.10.13"
  }
 },
 "nbformat": 4,
 "nbformat_minor": 4
}
