{
 "cells": [
  {
   "cell_type": "markdown",
   "metadata": {},
   "source": [
    "# Multiclass Classification\n",
    "\n",
    "While binary classifiers are used to distinguish between two classes (e.g. detect if a transaction is a fraudulent one, classify an email into either spam or non-spam and etc.), multiclass classifiers distinguish between more than two classes. \n",
    "\n",
    "There are various ways that we can use to perform multiclass classification by leveraging any binary classifiers. In this exercise, you will implement two such strategies for multiclass classification: _One-versus-all_ strategy and _One-versus-one_ strategy.\n",
    "\n",
    "- **One-versus-all (OvA)**: In this strategy, we train a single binary classifier per class, with the samples of that class as positive samples and all other samples as negatives. During inference, we get the prediction from each classifier and select the class with the highest score. This strategy is also called the one-versus-the-rest strategy. \n",
    "\n",
    "- **One-versus-one (OvO)**: In this strategy, we train a binary classifier for every pair of classes. If there are N classes in the problem, you need to train N * (N-1) / 2 classifiers. During inference, we have to run through all N * (N-1) / 2 classifiers and ses which class wins the most votes. The main advantage of OvO strategy is that each binary classifier only needs to be train on the part of the training dataset for the two classes that it needs to separate. "
   ]
  },
  {
   "cell_type": "code",
   "execution_count": null,
   "metadata": {},
   "outputs": [],
   "source": [
    "# import packages\n",
    "%matplotlib inline\n",
    "import numpy as np\n",
    "import matplotlib.pyplot as plt\n",
    "import pandas as pd\n",
    "from sklearn import datasets\n",
    "from sklearn.linear_model import LogisticRegression\n",
    "\n",
    "# make this notebook's output stable across runs\n",
    "np.random.seed(0)"
   ]
  },
  {
   "cell_type": "markdown",
   "metadata": {},
   "source": [
    "## Avila Dataset\n",
    "\n",
    "In this lab assignment, we use the [Avila](https://archive.ics.uci.edu/ml/datasets/Avila) data set, which has been extracted from 800 images of the the \"Avila Bible,\" a giant Latin copy of the whole Bible produced during the XII century between Italy and Spain.  \n",
    "The palaeographic analysis of the  manuscript has individuated the presence of 12 copyists. The pages written by each copyist are not equally numerous. \n",
    "Each pattern contains 10 features and corresponds to a group of 4 consecutive rows.\n",
    "\n",
    "The prediction task consists in associating each pattern to one of the 12 copyists (labeled as: A, B, C, D, E, F, G, H, I, W, X, Y).\n",
    "The data have has been normalized, by using the Z-normalization method, and divided in two data sets: a training set containing 10430 samples, and a test set  containing the 10437 samples.\n"
   ]
  },
  {
   "cell_type": "code",
   "execution_count": null,
   "metadata": {},
   "outputs": [],
   "source": [
    "# Load train and test data from CSV files.\n",
    "train = pd.read_csv(\"avila-tr.txt\", header=None)\n",
    "test = pd.read_csv(\"avila-ts.txt\", header=None)\n",
    "\n",
    "x_train = train.iloc[:,:-1]\n",
    "y_train = train.iloc[:,-1]\n",
    "\n",
    "x_test = test.iloc[:,:-1]\n",
    "y_test = test.iloc[:,-1]"
   ]
  },
  {
   "cell_type": "code",
   "execution_count": null,
   "metadata": {},
   "outputs": [],
   "source": [
    "train_counts = y_train.value_counts()\n",
    "test_counts = y_test.value_counts()\n",
    "print('Train class counts:\n', train_counts)\n",
    "print('Test class counts:\n', test_counts)\n"
   ]
  },
  {
   "cell_type": "markdown",
   "metadata": {},
   "source": [
    "Question 1.1: Check for missing Data"
   ]
  },
  {
   "cell_type": "code",
   "execution_count": null,
   "metadata": {},
   "outputs": [],
   "source": [
    "print('Missing values in train set:', train.isnull().sum().sum())\n",
    "print('Missing values in test set:', test.isnull().sum().sum())\n"
   ]
  },
  {
   "cell_type": "code",
   "execution_count": null,
   "metadata": {},
   "outputs": [],
   "source": []
  },
  {
   "cell_type": "markdown",
   "metadata": {},
   "source": [
    "Question 1.2: Apply Z-normalization to data"
   ]
  },
  {
   "cell_type": "code",
   "execution_count": null,
   "metadata": {},
   "outputs": [],
   "source": [
    "from sklearn.preprocessing import StandardScaler\n",
    "scaler = StandardScaler()\n",
    "\n",
    "x_train_z = scaler.fit_transform(x_train)\n",
    "x_test_z = scaler.transform(x_test)\n"
   ]
  },
  {
   "cell_type": "markdown",
   "metadata": {},
   "source": [
    "Question 2.1: Write a method to train multiple logistic regression models performing One vs All (OvA) classification. The method allows you to pass in training features, and target. The method returns a list of models and their associated labels. \n",
    "Within the method:\n",
    "- Determine the list of classes\n",
    "- Create a place to store all the models\n",
    "- For each class, train a model with the target variable set to 1 and 0 for all other classes\n",
    "- Return the list of models trained and associated labels."
   ]
  },
  {
   "cell_type": "code",
   "execution_count": null,
   "metadata": {},
   "outputs": [],
   "source": [
    "def trainOvA(x, y):\n",
    "    \"\"\"\n",
    "    Train the multiclass classifier using OvA strategy.\n",
    "    \"\"\"\n",
    "    labels = sorted(y.unique())\n",
    "    n_labels = len(labels)\n",
    "    print(f'number of classes is {n_labels}')\n",
    "\n",
    "    models = [None]*n_labels\n",
    "    model_labels = [None]*n_labels\n",
    "    for i, label in enumerate(labels):\n",
    "        print(f'Train Logistic Regression model for class {label}')\n",
    "        lr = LogisticRegression(solver='liblinear')\n",
    "        binary_y = (y==label).astype(int)\n",
    "        lr.fit(x, binary_y)\n",
    "        models[i] = lr\n",
    "        model_labels[i] = label\n",
    "    return models, model_labels\n"
   ]
  },
  {
   "cell_type": "markdown",
   "metadata": {},
   "source": [
    "Question 2.2: Write a method that leverages the multiple models trained for OvA, and outputs the majority class."
   ]
  },
  {
   "cell_type": "code",
   "execution_count": null,
   "metadata": {},
   "outputs": [],
   "source": [
    "def predictOvA(models, labels, x):\n",
    "    \"\"\"\n",
    "    Make predictions on multiclass problems using the OvA strategy.\n",
    "    \"\"\"\n",
    "    if models is None:\n",
    "        sys.exit('The model has not been trained yet. Please call train() first. Exiting...')\n",
    "\n",
    "    predictions = pd.DataFrame()\n",
    "    for model, label in zip(models, labels):\n",
    "        prob = model.predict_proba(x)[:,1]\n",
    "        predictions[label] = prob\n",
    "\n",
    "    return predictions.idxmax(axis=1).values\n"
   ]
  },
  {
   "cell_type": "markdown",
   "metadata": {},
   "source": [
    "Question 2.3: Train OvA model on the Avila dataset"
   ]
  },
  {
   "cell_type": "code",
   "execution_count": null,
   "metadata": {},
   "outputs": [],
   "source": [
    "from sklearn.linear_model import LogisticRegression\n",
    "models_ova, labels_ova = trainOvA(x_train_z, y_train)\n"
   ]
  },
  {
   "cell_type": "markdown",
   "metadata": {},
   "source": [
    "Question 2.4: Predict and evalutate the results of your model"
   ]
  },
  {
   "cell_type": "code",
   "execution_count": null,
   "metadata": {},
   "outputs": [],
   "source": [
    "te_z_ova = predictOvA(models_ova, labels_ova, x_test_z)\n"
   ]
  },
  {
   "cell_type": "code",
   "execution_count": null,
   "metadata": {},
   "outputs": [],
   "source": [
    "from sklearn.metrics import accuracy_score\n",
    "from sklearn.metrics import confusion_matrix\n",
    "\n",
    "ova_accuracy = accuracy_score(y_test, te_z_ova)\n",
    "ova_confuction_matrix = confusion_matrix(y_test, te_z_ova)\n",
    "\n",
    "print('Accuracy of OvA classifier is {}.'.format(ova_accuracy))\n",
    "print('Confusion matrix of OvA classifier: \n {}'\n      .format(ova_confuction_matrix))\n"
   ]
  },
  {
   "cell_type": "markdown",
   "metadata": {},
   "source": [
    "---"
   ]
  },
  {
   "cell_type": "markdown",
   "metadata": {},
   "source": [
    "Question 3.1: Develop a method that trains a list of models based on the OvO strategy for multiclass classification using logistic regression. "
   ]
  },
  {
   "cell_type": "code",
   "execution_count": null,
   "metadata": {},
   "outputs": [],
   "source": [
    "def trainOvO(x, y):\n",
    "    \"\"\"\n",
    "    Train the multiclass classifier using OvO strategy.\n",
    "    \"\"\"\n",
    "    labels = sorted(y.unique())\n",
    "    n_labels = len(labels)\n",
    "    n_models = int(n_labels * (n_labels - 1) / 2)\n",
    "    print(f'number of classes is {n_labels}')\n",
    "\n",
    "    models = [None]*n_models\n",
    "    model_labels = [None]*n_models\n",
    "    model_idx = 0\n",
    "    for i in range(n_labels):\n",
    "        for j in range(i+1, n_labels):\n",
    "            label_i = labels[i]\n",
    "            label_j = labels[j]\n",
    "            print(f'Train Logistic Regression model to distinguish {label_i} and {label_j}')\n",
    "\n",
    "            train_mask = y.isin([label_i, label_j])\n",
    "            train_x = x[train_mask]\n",
    "            train_y = y[train_mask].map({label_i:0, label_j:1})\n",
    "\n",
    "            lr = LogisticRegression(solver='liblinear')\n",
    "            lr.fit(train_x, train_y)\n",
    "            models[model_idx] = lr\n",
    "            model_labels[model_idx] = (label_i, label_j)\n",
    "            model_idx += 1\n",
    "    return models, model_labels\n"
   ]
  },
  {
   "cell_type": "markdown",
   "metadata": {},
   "source": [
    "Question 3.2: Write a method that leverages the multiple models trained for OvO, and outputs the majority class."
   ]
  },
  {
   "cell_type": "code",
   "execution_count": null,
   "metadata": {},
   "outputs": [],
   "source": [
    "def predictOvO(models, labels, x):\n",
    "    \"\"\"\n",
    "    Make predictions on multiclass problems using the OvO strategy.\n",
    "    \"\"\"\n",
    "    if models is None:\n",
    "        sys.exit('The model has not been trained yet. Please call train() first. Exiting...')\n",
    "\n",
    "    preds = pd.DataFrame(index=range(x.shape[0]))\n",
    "    for idx, (model, (label_i, label_j)) in enumerate(zip(models, labels)):\n",
    "        pred = model.predict(x)\n",
    "        pred_labels = np.where(pred==0, label_i, label_j)\n",
    "        preds[idx] = pred_labels\n",
    "\n",
    "    return preds.mode(axis=1).iloc[:, 0].values\n"
   ]
  },
  {
   "cell_type": "markdown",
   "metadata": {},
   "source": [
    "Question 3.3: Train OvO model on the Avila dataset"
   ]
  },
  {
   "cell_type": "code",
   "execution_count": null,
   "metadata": {},
   "outputs": [],
   "source": [
    "models_ovo, labels_ovo = trainOvO(x_train_z, y_train)\n"
   ]
  },
  {
   "cell_type": "markdown",
   "metadata": {},
   "source": [
    "Question 3.4: Predict and evaluate the results of your model"
   ]
  },
  {
   "cell_type": "code",
   "execution_count": null,
   "metadata": {},
   "outputs": [],
   "source": [
    "te_z_ovo = predictOvO(models_ovo, labels_ovo, x_test_z)\n"
   ]
  },
  {
   "cell_type": "code",
   "execution_count": null,
   "metadata": {},
   "outputs": [],
   "source": [
    "ovo_accuracy = accuracy_score(y_test, te_z_ovo)\n",
    "ovo_confuction_matrix = confusion_matrix(y_test, te_z_ovo)\n",
    "\n",
    "print('Accuracy of OvO classifier is {}.'.format(ovo_accuracy))\n",
    "print('Confusion matrix of OvO classifier: \n {}'\n      .format(ovo_confuction_matrix))\n"
   ]
  },
  {
   "cell_type": "markdown",
   "metadata": {},
   "source": [
    "Question 4.1: [LogisticRegression](https://scikit-learn.org/stable/modules/generated/sklearn.linear_model.LogisticRegression.html) sklearn supports two approaches for solving multi-class problems: 'ovr', 'multinomial'. Try out both approaches, and evaluate and compare the performance against what you developed in questions 2 and 3."
   ]
  },
  {
   "cell_type": "code",
   "execution_count": null,
   "metadata": {},
   "outputs": [],
   "source": [
    "clf = LogisticRegression(multi_class='ovr', solver='liblinear')\n",
    "clf.fit(x_train_z, y_train)\n",
    "y_ovr = clf.predict(x_test_z)\n",
    "\n",
    "ovr_accuracy = accuracy_score(y_test, y_ovr)\n",
    "ovr_confuction_matrix = confusion_matrix(y_test, y_ovr)\n",
    "\n",
    "print('Accuracy of OvR classifier is {}.'.format(ovr_accuracy))\n",
    "print('Confusion matrix of OvR classifier: \n {}'\n      .format(ovr_confuction_matrix))\n"
   ]
  },
  {
   "cell_type": "code",
   "execution_count": null,
   "metadata": {},
   "outputs": [],
   "source": [
    "#class = multinomial\n",
    "clf = LogisticRegression(multi_class='multinomial', solver='lbfgs', max_iter=1000)\n",
    "clf.fit(x_train_z, y_train)\n",
    "y_multinomial = clf.predict(x_test_z)\n",
    "\n",
    "multinomial_accuracy = accuracy_score(y_test, y_multinomial)\n",
    "multinomial_confuction_matrix = confusion_matrix(y_test, y_multinomial)\n",
    "\n",
    "print('Accuracy of multinomial classifier is {}.'.format(multinomial_accuracy))\n",
    "print('Confusion matrix of multinomial classifier: \n {}'\n      .format(multinomial_confuction_matrix))\n"
   ]
  },
  {
   "cell_type": "markdown",
   "metadata": {},
   "source": [
    "Question 4: Create a new text cell in your Notebook: Complete a 50-100 word summary (or short description of your thinking in applying this week's learning to the solution) of your experience in this assignment. Include: What was your incoming experience with this model, if any? what steps you took, what obstacles you encountered. how you link this exercise to real-world, machine learning problem-solving. (What steps were missing? What else do you need to learn?) This summary allows your instructor to know how you are doing and allot points for your effort in thinking and planning, and making connections to real-world work."
   ]
  },
  {
   "cell_type": "markdown",
   "metadata": {},
   "source": [
    "My experience with this assignment involved applying logistic regression in both one-vs-all and one-vs-one settings. I began by inspecting the data and normalizing the features. Implementing the OvA and OvO helpers reinforced how binary classifiers can extend to multiclass problems. After training and evaluating the models, I compared them with scikit-learn's built-in multiclass options. This exercise highlighted the importance of preprocessing and careful evaluation when tackling real-world classification tasks."
   ]
  }
 ],
 "metadata": {
  "kernelspec": {
   "display_name": "Python 3",
   "language": "python",
   "name": "python3"
  },
  "language_info": {
   "codemirror_mode": {
    "name": "ipython",
    "version": 3
   },
   "file_extension": ".py",
   "mimetype": "text/x-python",
   "name": "python",
   "nbconvert_exporter": "python",
   "pygments_lexer": "ipython3",
   "version": "3.7.3"
  }
 },
 "nbformat": 4,
 "nbformat_minor": 2
}