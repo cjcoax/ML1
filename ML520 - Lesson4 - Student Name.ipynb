{
 "cells": [
  {
   "cell_type": "markdown",
   "metadata": {},
   "source": [
    "# Lesson 5 - Assignment\n",
    "\n",
    "In this assignment, you will implement a Support Vector Machine Classifier  from scratch and compare the results to existing sklearn algorithm. "
   ]
  },
  {
   "cell_type": "code",
   "execution_count": 3,
   "metadata": {},
   "outputs": [],
   "source": [
    "# import packages\n",
    "%matplotlib inline\n",
    "import numpy as np\n",
    "import matplotlib.pyplot as plt\n",
    "import seaborn as sns\n",
    "import pandas as pd\n",
    "from matplotlib.legend_handler import HandlerLine2D\n",
    "from sklearn.metrics import accuracy_score\n",
    "from sklearn.metrics import confusion_matrix\n",
    "from sklearn.metrics import mean_squared_error\n",
    "from sklearn.metrics import mean_absolute_error\n",
    "from sklearn.tree import DecisionTreeClassifier\n",
    "from sklearn.tree import DecisionTreeRegressor\n",
    "from sklearn.model_selection import GridSearchCV\n",
    "from sklearn.model_selection import train_test_split\n",
    "from sklearn.utils import shuffle\n",
    "\n",
    "# make this notebook's output stable across runs\n",
    "np.random.seed(0)"
   ]
  },
  {
   "cell_type": "markdown",
   "metadata": {},
   "source": [
    "Question 1.1: Implement the cost function cost/objective function:\n",
    "<img src=\"https://miro.medium.com/max/688/1*JAS6rUTO7TDlrv4XZSMbsA.png\" alt=\"drawing\" width=\"600\"/>\n"
   ]
  },
  {
   "cell_type": "markdown",
   "metadata": {},
   "source": [
    "Hints given: \n",
    "There was some confusion about what the stochastic descent cost gradient function reg_strength parameter means, \n",
    "as in the assignment there is not a lot of context around it. reg_strength refers to the regulation coefficient in stochastic descent. \n",
    "reg_strength corresponds to L2 regularization, also known as Ridge regression. \n",
    "The regularization parameter (λ) controls the strength of the penalty. \n",
    "A higher λ will lead to smaller coefficients and potentially prevent overfitting. \n",
    "To illustrate how it is used, here is a general example of computing the cost gradient that incorporates reg_strength:\n",
    "\n",
    " \n",
    "```\n",
    "import numpy as np\n",
    "\n",
    "def stochastic_descent_gradient(X, y, theta, learning_rate, reg_strength, batch_size):\n",
    "    \"\"\"\n",
    "    Performs one epoch of stochastic gradient descent with L2 regularization.\n",
    "\n",
    "    Args:\n",
    "        X (np.ndarray): Feature matrix of shape (n_samples, n_features).\n",
    "        y (np.ndarray): Target vector of shape (n_samples,).\n",
    "        theta (np.ndarray): Parameter vector of shape (n_features,).\n",
    "        learning_rate (float): Learning rate for gradient descent.\n",
    "        reg_strength (float): Regularization strength (lambda).\n",
    "        batch_size (int): Number of samples in each mini-batch.\n",
    "\n",
    "    Returns:\n",
    "        np.ndarray: Updated parameter vector.\n",
    "    \"\"\"\n",
    "    n_samples = X.shape[0]\n",
    "    indices = np.random.permutation(n_samples)\n",
    "    \n",
    "    for start_idx in range(0, n_samples, batch_size):\n",
    "        end_idx = min(start_idx + batch_size, n_samples)\n",
    "        batch_indices = indices[start_idx:end_idx]\n",
    "        X_batch = X[batch_indices]\n",
    "        y_batch = y[batch_indices]\n",
    "        \n",
    "        # Compute predictions\n",
    "        predictions = X_batch.dot(theta)\n",
    "        \n",
    "        # Compute gradient of the cost function with regularization\n",
    "        error = predictions - y_batch\n",
    "        gradient = (X_batch.T.dot(error) / batch_size) + reg_strength * theta\n",
    "        \n",
    "        # Update parameters\n",
    "        theta -= learning_rate * gradient\n",
    "\n",
    "    return theta\n",
    "```"
   ]
  },
  {
   "cell_type": "markdown",
   "metadata": {},
   "source": [
    "Relationships among the Lesson 4 assignment methods\n",
    "\n",
    "The question came up what are the relationships among the Lesson 4 assignment methods that work together to perform stochastic gradient descent.\n",
    "\n",
    "```calculate_cost_gradient(W, X_batch, Y_batch, reg_strength)```\n",
    "\n",
    "Computes the cost gradient of the loss function (including regularization) for a specific data batch (X_batch, Y_batch) using L2 regularization strength reg_strength and current weights W.\n",
    "Used inside sgd to obtain the gradient for updating W.\n",
    "```compute_cost(W, X, Y, reg_strength)```\n",
    "\n",
    "Calculates the total or full dataset cost (including regularization) for the entire dataset (X, Y) using current weights W.\n",
    "Typically called within sgd every few epochs.\n",
    "```sgd(data, outputs, learning_rate, max_epochs)```\n",
    "\n",
    "Implements the main training loop:\n",
    "Calls calculate_cost_gradient to get the gradient\n",
    "Updates W using the gradient and learning rate.\n",
    "Calls compute_cost(W, X, Y, reg_strength) periodically to do a convergence check\n",
    "\n"
   ]
  },
  {
   "cell_type": "code",
   "execution_count": 236,
   "metadata": {},
   "outputs": [],
   "source": [
    "def compute_cost(W, X, Y,reg_strength=1000):\n",
    "    \n",
    "    return cost"
   ]
  },
  {
   "cell_type": "markdown",
   "metadata": {},
   "source": [
    "Question 1.2: Write a method that calculate the cost gradient:\n",
    "<img src=\"https://miro.medium.com/max/866/1*ww3F21VMVGp2NKhm0VTesA.png\" alt=\"drawing\" width=\"600\"/>"
   ]
  },
  {
   "cell_type": "code",
   "execution_count": 237,
   "metadata": {},
   "outputs": [],
   "source": [
    "def calculate_cost_gradient(W, X_batch, Y_batch, reg_strength=1000):\n",
    "\n",
    "    return dw"
   ]
  },
  {
   "cell_type": "markdown",
   "metadata": {},
   "source": [
    "Question 1.3: Write a method that performs stochastic Gradient descent as follows:\n",
    "- Caluclate the gradient of cost function i.e. ∇J(w)\n",
    "- Update the weights in the opposite direction to the gradient: w = w — ∝(∇J(w))\n",
    "- Repeat until conversion or until 5000 epochs are reached"
   ]
  },
  {
   "cell_type": "code",
   "execution_count": 250,
   "metadata": {},
   "outputs": [],
   "source": [
    "def sgd(data, outputs, learning_rate = 0.0001, max_epochs = 5000):\n",
    "    \n",
    "    return weights"
   ]
  },
  {
   "cell_type": "markdown",
   "metadata": {},
   "source": [
    "# Dataset"
   ]
  },
  {
   "cell_type": "code",
   "execution_count": 251,
   "metadata": {},
   "outputs": [],
   "source": [
    "data = pd.read_csv('data_banknote_authentication.csv')\n",
    "\n",
    "Y = data.iloc[:, -1]  \n",
    "X = data.iloc[:, 1:4]\n",
    "X.insert(loc=len(X.columns), column='intercept', value=1)\n",
    "\n",
    "X_train, X_test, y_train, y_test = train_test_split(X, Y, test_size=0.4, random_state=42)"
   ]
  },
  {
   "cell_type": "markdown",
   "metadata": {},
   "source": [
    "Question 4: Train and evaluate an SVC using the banknote_authentication data"
   ]
  },
  {
   "cell_type": "code",
   "execution_count": 258,
   "metadata": {},
   "outputs": [
    {
     "name": "stdout",
     "output_type": "stream",
     "text": [
      "training started...\n",
      "Epoch is:1 and Cost is: 1330.6609807638226\n",
      "Epoch is:2 and Cost is: 559.7729975682573\n",
      "Epoch is:4 and Cost is: 559.0457069746756\n",
      "training finished.\n",
      "weights are: [ 0.07820597  0.13967686 -0.51405355  1.85642289]\n",
      "accuracy on test dataset: 0.44808743169398907\n"
     ]
    }
   ],
   "source": [
    "# train the model\n"
   ]
  },
  {
   "cell_type": "markdown",
   "metadata": {},
   "source": [
    "[Bonus] Question 5: Train and evaluate an SKLEARN SVC model, and compare the results to your model "
   ]
  },
  {
   "cell_type": "code",
   "execution_count": null,
   "metadata": {},
   "outputs": [],
   "source": []
  }
 ],
 "metadata": {
  "kernelspec": {
   "display_name": "Python 3 (ipykernel)",
   "language": "python",
   "name": "python3"
  },
  "language_info": {
   "codemirror_mode": {
    "name": "ipython",
    "version": 3
   },
   "file_extension": ".py",
   "mimetype": "text/x-python",
   "name": "python",
   "nbconvert_exporter": "python",
   "pygments_lexer": "ipython3",
   "version": "3.11.9"
  }
 },
 "nbformat": 4,
 "nbformat_minor": 4
}
